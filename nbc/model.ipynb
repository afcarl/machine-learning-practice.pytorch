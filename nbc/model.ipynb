{
 "cells": [
  {
   "cell_type": "markdown",
   "metadata": {},
   "source": [
    "## Naive Bayes Classifier\n",
    "\n",
    "In this exercise, I will implement binary NBCs for solving the Kaggle Cats vs. Dogs dataset.\n",
    "\n",
    "### Data \n",
    "\n",
    "Download the dataset from [here](https://www.kaggle.com/c/dogs-vs-cats/data) and unzip it in a subdirectory called `./data/`.\n",
    "\n",
    "### Model\n",
    "\n",
    "We will use [torchvision](https://pytorch.org/docs/master/torchvision/) pre-trained ResNet to extract features and train an NBC. Since we have real-valued features, we will use a simple Gaussian distribution to represent the class-conditional density $p(x | y = \\text{\\{cat,dog\\}}, \\theta) = \\Pi_{j=1}^D \\mathcal{N}(x_j | \\mu_{jc} , \\sigma_{jc}^2)$"
   ]
  },
  {
   "cell_type": "code",
   "execution_count": 1,
   "metadata": {},
   "outputs": [],
   "source": [
    "import torch\n",
    "import numpy as np\n",
    "from torch.utils.data import Dataset, DataLoader\n",
    "import torchvision\n",
    "import torch.nn as nn\n",
    "from skimage import io\n",
    "import os\n",
    "from pathlib import Path\n",
    "import matplotlib.pyplot as plt\n",
    "import seaborn as sns; sns.set()\n",
    "from tqdm import tqdm_notebook as tqdm\n",
    "\n",
    "%matplotlib inline\n",
    "\n",
    "global_params = {\n",
    "    'batch_size': 1,\n",
    "    'num_workers': 0,\n",
    "    'feature_dim': 10\n",
    "}"
   ]
  },
  {
   "cell_type": "code",
   "execution_count": 2,
   "metadata": {},
   "outputs": [],
   "source": [
    "class DogsCatsDataset(Dataset):\n",
    "    def __init__(self, is_train, transform):\n",
    "        self.is_train = is_train\n",
    "        self.transform = transform\n",
    "        if self.is_train:\n",
    "            self.data_dir = Path(\"data/catdog/train/\")\n",
    "        else:\n",
    "            self.data_dir = Path(\"data/catdog/test1/\")\n",
    "            \n",
    "    def __len__(self):\n",
    "        if self.is_train:\n",
    "            return 25000\n",
    "        else:\n",
    "            return 12500\n",
    "        \n",
    "    def __getitem__(self, idx):\n",
    "        if self.is_train:\n",
    "            if idx > 12499:\n",
    "                animal = \"dog\"\n",
    "                label = 1\n",
    "            else:\n",
    "                animal = \"cat\"\n",
    "                label = 0\n",
    "            file_name = animal + \".{}.jpg\".format(int(idx % 12500))\n",
    "            img_name = self.data_dir / file_name\n",
    "            img = io.imread(img_name)\n",
    "            img = self.transform(img)\n",
    "            sample = {'image': img, 'label': label}\n",
    "            return sample\n",
    "        else:\n",
    "            img_name = self.data_dir / \"{}.jpg\".format(idx+1)\n",
    "            img = io.imread(img_name)\n",
    "            img = self.transform(img)\n",
    "            sample = {'image': img}\n",
    "            return sample\n",
    "\n",
    "# Resize image to 256x256, then randomly crop to 224x224,\n",
    "# then normalize pixel values\n",
    "dataset = DogsCatsDataset(is_train=True, transform=torchvision.transforms.Compose([\n",
    "    torchvision.transforms.ToPILImage(),\n",
    "    torchvision.transforms.Resize(256),\n",
    "    torchvision.transforms.RandomCrop(224),\n",
    "    torchvision.transforms.ToTensor(),\n",
    "    torchvision.transforms.Normalize((0.5, 0.5, 0.5), (0.5, 0.5, 0.5))\n",
    "]))\n",
    "\n",
    "N = 25000\n",
    "indices = np.arange(N)\n",
    "np.random.shuffle(indices)\n",
    "splitpoint = int(0.9 * N)\n",
    "train_idx = indices[:splitpoint]\n",
    "val_idx = indices[splitpoint:]\n",
    "\n",
    "train_sampler = torch.utils.data.sampler.SubsetRandomSampler(train_idx)\n",
    "val_sampler = torch.utils.data.sampler.SubsetRandomSampler(val_idx)\n",
    "train_loader = DataLoader(dataset, batch_size=global_params['batch_size'],\n",
    "                         sampler=train_sampler, num_workers=global_params['num_workers'])\n",
    "val_loader = DataLoader(dataset, batch_size=global_params['batch_size'],\n",
    "                       sampler=val_sampler, num_workers=global_params['num_workers'])"
   ]
  },
  {
   "cell_type": "markdown",
   "metadata": {},
   "source": [
    "Before we can run our NBC, lets take a look at applying PCA to the features extracted by the pre-trained resnet18 model, since binary NBC has O(2D) parameters where D is the feature dimension."
   ]
  },
  {
   "cell_type": "code",
   "execution_count": 3,
   "metadata": {},
   "outputs": [],
   "source": [
    "from sklearn.decomposition import PCA\n",
    "\n",
    "gpu = torch.device(\"cuda:0\")\n",
    "cpu = torch.device(\"cpu\")\n",
    "\n",
    "class ResNet(nn.Module):\n",
    "    def __init__(self):\n",
    "        super(ResNet, self).__init__()\n",
    "        resnet = torchvision.models.resnet18(pretrained=True)\n",
    "        self.model = nn.Sequential(\n",
    "            resnet.conv1,\n",
    "            resnet.bn1,\n",
    "            resnet.relu,\n",
    "            resnet.maxpool,\n",
    "            resnet.layer1,\n",
    "            resnet.layer2,\n",
    "            resnet.layer3,\n",
    "            resnet.layer4,\n",
    "            resnet.avgpool\n",
    "        ) \n",
    "        \n",
    "    def forward(self, x):\n",
    "        out = self.model(x)\n",
    "        return out.view(out.size(0), -1)\n",
    "    \n",
    "resnet = ResNet()\n",
    "resnet = resnet.to(gpu)"
   ]
  },
  {
   "cell_type": "code",
   "execution_count": null,
   "metadata": {},
   "outputs": [],
   "source": [
    "# We need to create a 250x512 ndarray,\n",
    "# where dim1 is samples and sim2 is feature dim\n",
    "featurized = []\n",
    "val_labels = []\n",
    "with torch.no_grad():\n",
    "    for batch in tqdm(val_loader):\n",
    "        x = batch['image']\n",
    "        val_labels.append(batch['label'])\n",
    "        x = x.to(gpu)\n",
    "        features = resnet(x)\n",
    "        featurized.append(features.to(cpu))\n",
    "X = torch.stack(featurized).squeeze()\n",
    "val_labels = torch.stack(val_labels).squeeze()"
   ]
  },
  {
   "cell_type": "markdown",
   "metadata": {},
   "source": [
    "`X` is a 2500 x 512 torch Tensor that we will now apply PCA"
   ]
  },
  {
   "cell_type": "code",
   "execution_count": null,
   "metadata": {},
   "outputs": [],
   "source": [
    "print(X.shape)\n",
    "\n",
    "pca = PCA(n_components='mle', svd_solver='full')\n",
    "pca.fit(X.numpy())"
   ]
  },
  {
   "cell_type": "code",
   "execution_count": null,
   "metadata": {},
   "outputs": [],
   "source": [
    "print(pca.explained_variance_ratio_)\n",
    "plt.plot(pca.singular_values_)"
   ]
  },
  {
   "cell_type": "markdown",
   "metadata": {},
   "source": [
    "We can try using the top 10 singular values. Now, we can define our NBC and train it with MLE"
   ]
  },
  {
   "cell_type": "code",
   "execution_count": 34,
   "metadata": {},
   "outputs": [],
   "source": [
    "class GaussianNBC(nn.Module):\n",
    "    \"\"\"\n",
    "    An NBC has O(DC) parameters, where \n",
    "    D is the feature dimension and C \n",
    "    is the number of classes.  \n",
    "    \n",
    "    Here, D = feature_dim and C = 2\n",
    "    \"\"\"\n",
    "    def __init__(self, feature_dim):\n",
    "        super(GaussianNBC, self).__init__()\n",
    "        # mean and variance of the Gaussian for each feature \n",
    "        # dimension of each class\n",
    "        self.feature_dim = feature_dim\n",
    "        # [class, mean, var]\n",
    "        self.params = torch.zeros(2, 2, feature_dim)\n",
    "        # uninformative prior\n",
    "        self.log_priors = torch.log(torch.FloatTensor([0.5])) * torch.ones(2)\n",
    "        self.eps = torch.FloatTensor([1e-6])\n",
    "        self.c = torch.log(torch.FloatTensor([2 * np.pi]))\n",
    "        \n",
    "    def log_normal(self, x, c):\n",
    "        \"\"\"\n",
    "        compute log-likelihood of x, a [feature_dim] vector\n",
    "        under N(x | \\mu_c, \\sigma^2_c)\n",
    "        \n",
    "        returns a feature_dim vector of log-likelihoods\n",
    "        \"\"\"\n",
    "        return (-0.5 * (self.c + torch.log(self.params[c, 1, :]))) + \\\n",
    "                       (-0.5 * (1./(self.params[c, 1, :] + self.eps)) * \\\n",
    "                        ((x - self.params[c, 0, :]) ** 2).float())\n",
    "        \n",
    "    def forward(self, x):\n",
    "        \"\"\"\n",
    "        x: featurized image to classify after training\n",
    "        \"\"\"\n",
    "        preds = self.log_priors\n",
    "        preds[0] = preds[0] + torch.sum(self.log_normal(x, 0))\n",
    "        preds[1] = preds[1] + torch.sum(self.log_normal(x, 1))\n",
    "        return preds"
   ]
  },
  {
   "cell_type": "code",
   "execution_count": 5,
   "metadata": {},
   "outputs": [
    {
     "data": {
      "application/vnd.jupyter.widget-view+json": {
       "model_id": "7c362f8ed5994a8c94584f65e3aa3759",
       "version_major": 2,
       "version_minor": 0
      },
      "text/html": [
       "<p>Failed to display Jupyter Widget of type <code>HBox</code>.</p>\n",
       "<p>\n",
       "  If you're reading this message in the Jupyter Notebook or JupyterLab Notebook, it may mean\n",
       "  that the widgets JavaScript is still loading. If this message persists, it\n",
       "  likely means that the widgets JavaScript library is either not installed or\n",
       "  not enabled. See the <a href=\"https://ipywidgets.readthedocs.io/en/stable/user_install.html\">Jupyter\n",
       "  Widgets Documentation</a> for setup instructions.\n",
       "</p>\n",
       "<p>\n",
       "  If you're reading this message in another frontend (for example, a static\n",
       "  rendering on GitHub or <a href=\"https://nbviewer.jupyter.org/\">NBViewer</a>),\n",
       "  it may mean that your frontend doesn't currently support widgets.\n",
       "</p>\n"
      ],
      "text/plain": [
       "HBox(children=(IntProgress(value=0, max=22500), HTML(value='')))"
      ]
     },
     "metadata": {},
     "output_type": "display_data"
    },
    {
     "name": "stdout",
     "output_type": "stream",
     "text": [
      "\n"
     ]
    }
   ],
   "source": [
    "pca_train = PCA(n_components=global_params['feature_dim'], svd_solver='randomized')\n",
    "\n",
    "data = []\n",
    "labels = []\n",
    "with torch.no_grad():\n",
    "    for batch in tqdm(train_loader):\n",
    "        x = batch['image']\n",
    "        x = x.to(gpu)\n",
    "        features = resnet(x)\n",
    "        data.append(features.to(cpu))\n",
    "        labels.append(batch['label'])\n",
    "# 22500 x 512\n",
    "data = torch.stack(data).squeeze()\n",
    "# 22500\n",
    "labels = torch.stack(labels).squeeze()\n",
    "# 22500 x feature_dim\n",
    "data_reduced = pca_train.fit_transform(data)\n",
    "data_reduced = torch.from_numpy(data_reduced).float()"
   ]
  },
  {
   "cell_type": "code",
   "execution_count": 35,
   "metadata": {},
   "outputs": [
    {
     "name": "stdout",
     "output_type": "stream",
     "text": [
      "tensor(1.00000e-02 *\n",
      "       [[-0.0034, -6.9734,  0.8322,  1.9554,  0.2579, -0.1051, -0.2677,\n",
      "         -0.3304, -0.0927,  0.0387],\n",
      "        [ 2.1051,  0.3843,  0.7289,  0.7536,  0.4674,  0.4535,  0.4121,\n",
      "          0.3521,  0.3493,  0.3245]])\n",
      "tensor(1.00000e-02 *\n",
      "       [[ 0.0034,  6.9796, -0.8329, -1.9571, -0.2581,  0.1052,  0.2679,\n",
      "          0.3307,  0.0928, -0.0387],\n",
      "        [ 2.0516,  0.5936,  0.9105,  0.5983,  0.7168,  0.5998,  0.5271,\n",
      "          0.4892,  0.3847,  0.3363]])\n"
     ]
    }
   ],
   "source": [
    "# Fit the GaussianNBC with MLE\n",
    "gauss_nbc = GaussianNBC(global_params['feature_dim'])\n",
    "\n",
    "# the MLE estimate for the parameters given the dataset\n",
    "# is just the MLE estimate of a Gaussian in each feature dimension, \n",
    "# i.e., x_hat_j = 1/N sum_i=1 to N (x_j) and \n",
    "# \\sigma^2_hat_j = 1/(N-1) sum_i=1 to N (x_j - x_hat_j) ** 2\n",
    "\n",
    "# select each class using `labels`\n",
    "#data_reduced = torch.from_numpy(data_reduced).float()\n",
    "labels = labels.byte()  \n",
    "flipped_labels = torch.abs(1 - labels)\n",
    "for j in range(global_params['feature_dim']):\n",
    "    gauss_nbc.params[1, 0, j] = torch.mean(data_reduced[labels, j])\n",
    "    gauss_nbc.params[1, 1, j] = torch.var(data_reduced[labels, j])\n",
    "    gauss_nbc.params[0, 0, j] = torch.mean(data_reduced[flipped_labels, j])\n",
    "    gauss_nbc.params[0, 1, j] = torch.var(data_reduced[flipped_labels, j])   \n",
    "    \n",
    "print(gauss_nbc.params[0,:,:10])\n",
    "print(gauss_nbc.params[1,:,:10])"
   ]
  },
  {
   "cell_type": "code",
   "execution_count": 38,
   "metadata": {},
   "outputs": [
    {
     "data": {
      "image/png": "[encoded data removed]",
      "text/plain": [
       "<matplotlib.figure.Figure at 0x1777f98dc88>"
      ]
     },
     "metadata": {},
     "output_type": "display_data"
    }
   ],
   "source": [
    "def plot_data(d=None, y=None):\n",
    "    plt.figure()\n",
    "    plt.scatter(np.arange(10), gauss_nbc.params[0,0].numpy(), c='r', label='cat')\n",
    "    plt.scatter(np.arange(10), gauss_nbc.params[1,0].numpy(), c='b', label='dog')\n",
    "    if d is not None and y is not None:\n",
    "        plt.scatter(np.arange(10), d, c='g', label=y)\n",
    "    plt.legend()\n",
    "    plt.show()\n",
    "    \n",
    "plot_data()"
   ]
  },
  {
   "cell_type": "markdown",
   "metadata": {},
   "source": [
    "Let's compute the training accuracy"
   ]
  },
  {
   "cell_type": "code",
   "execution_count": 37,
   "metadata": {},
   "outputs": [
    {
     "data": {
      "application/vnd.jupyter.widget-view+json": {
       "model_id": "040424b5953745e3a6870f5a390f9a4b",
       "version_major": 2,
       "version_minor": 0
      },
      "text/html": [
       "<p>Failed to display Jupyter Widget of type <code>HBox</code>.</p>\n",
       "<p>\n",
       "  If you're reading this message in the Jupyter Notebook or JupyterLab Notebook, it may mean\n",
       "  that the widgets JavaScript is still loading. If this message persists, it\n",
       "  likely means that the widgets JavaScript library is either not installed or\n",
       "  not enabled. See the <a href=\"https://ipywidgets.readthedocs.io/en/stable/user_install.html\">Jupyter\n",
       "  Widgets Documentation</a> for setup instructions.\n",
       "</p>\n",
       "<p>\n",
       "  If you're reading this message in another frontend (for example, a static\n",
       "  rendering on GitHub or <a href=\"https://nbviewer.jupyter.org/\">NBViewer</a>),\n",
       "  it may mean that your frontend doesn't currently support widgets.\n",
       "</p>\n"
      ],
      "text/plain": [
       "HBox(children=(IntProgress(value=0, max=22500), HTML(value='')))"
      ]
     },
     "metadata": {},
     "output_type": "display_data"
    },
    {
     "name": "stdout",
     "output_type": "stream",
     "text": [
      "\n",
      "Gaussian NBC training accuracy: 0.5004 %\n"
     ]
    }
   ],
   "source": [
    "num_correct = 0\n",
    "N = 22500\n",
    "labels = labels.long()\n",
    "with torch.no_grad():\n",
    "    for idx in tqdm(range(N)):\n",
    "        x = data_reduced[idx]\n",
    "        y = labels[idx]\n",
    "        _, pred = torch.max(gauss_nbc(x), 0)\n",
    "        if pred == y:\n",
    "            num_correct += 1\n",
    "print(\"Gaussian NBC training accuracy: {} %\".format(num_correct / N))"
   ]
  },
  {
   "cell_type": "markdown",
   "metadata": {},
   "source": [
    "Simple Guassian NBC is not able to do much with this dataset! :( Not too surprising.\n",
    "Just to see what happens, lets train LogReg on the full featurized dataset."
   ]
  },
  {
   "cell_type": "code",
   "execution_count": null,
   "metadata": {},
   "outputs": [],
   "source": [
    "from sklearn.linear_model import LogisticRegression\n",
    "\n",
    "logreg = LogisticRegression()\n",
    "logreg.fit(data, labels)"
   ]
  },
  {
   "cell_type": "code",
   "execution_count": null,
   "metadata": {},
   "outputs": [],
   "source": [
    "training_accuracy = logreg.score(data, labels)\n",
    "print('logreg training accuracy: {} %'.format(training_accuracy))"
   ]
  },
  {
   "cell_type": "code",
   "execution_count": null,
   "metadata": {},
   "outputs": [],
   "source": [
    "print('logreg validation accuracy: {} %'.format(logreg.score(X, val_labels)))"
   ]
  },
  {
   "cell_type": "markdown",
   "metadata": {},
   "source": [
    "## Titanic dataset\n",
    "\n",
    "Let's try a simpler dataset so we can get some interesting results out of our Gaussian NBC"
   ]
  },
  {
   "cell_type": "code",
   "execution_count": null,
   "metadata": {},
   "outputs": [],
   "source": []
  }
 ],
 "metadata": {
  "kernelspec": {
   "display_name": "Python 3",
   "language": "python",
   "name": "python3"
  },
  "language_info": {
   "codemirror_mode": {
    "name": "ipython",
    "version": 3
   },
   "file_extension": ".py",
   "mimetype": "text/x-python",
   "name": "python",
   "nbconvert_exporter": "python",
   "pygments_lexer": "ipython3",
   "version": "3.6.4"
  }
 },
 "nbformat": 4,
 "nbformat_minor": 2
}
